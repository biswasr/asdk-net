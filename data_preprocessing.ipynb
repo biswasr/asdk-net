{
 "cells": [
  {
   "cell_type": "code",
   "execution_count": 1,
   "metadata": {},
   "outputs": [],
   "source": [
    "def load_sess_trials(cache, sess_id, stim_label_list, bin_size, kernel_param):\n",
    "    # load session data\n",
    "    data = cache.get_session_data(sess_id)\n",
    "    for stim_i, stim_label in enumerate(stim_label_list):\n",
    "        # get start, end time points\n",
    "        stim_data_table = data.get_stimulus_table()[data.get_stimulus_table().stimulus_name==stim_label]\n",
    "        start_time = stim_data_table.start_time\n",
    "        stop_time = stim_data_table.stop_time\n",
    "        # get windowed spike times\n",
    "        S[i] = window_spk_times(data,start_time,stop_time)\n",
    "        # get binned spike rates\n",
    "        t_bin[i], P[i] = bin_spikes(S[i],bin_size)\n",
    "        # kernel smoothed estimate of binned spike rates\n",
    "        X[i] = smooth_spikes(P[i],kernel_param)\n",
    "        \n",
    "    return (t_bin, S, P, X)"
   ]
  },
  {
   "cell_type": "code",
   "execution_count": 2,
   "metadata": {},
   "outputs": [],
   "source": [
    "def window_spk_times( data, start_time, stop_time ):\n",
    "    # Vincent\n",
    "    return S"
   ]
  },
  {
   "cell_type": "code",
   "execution_count": 3,
   "metadata": {},
   "outputs": [],
   "source": [
    "def bin_spikes( S, bin_size ):\n",
    "    # Ryan\n",
    "    return (t_bin, P)"
   ]
  },
  {
   "cell_type": "code",
   "execution_count": 4,
   "metadata": {},
   "outputs": [],
   "source": [
    "def smooth_spikes( P, kernel_param ):\n",
    "    # Rahul\n",
    "    return P"
   ]
  },
  {
   "cell_type": "code",
   "execution_count": null,
   "metadata": {},
   "outputs": [],
   "source": []
  }
 ],
 "metadata": {
  "kernelspec": {
   "display_name": "asdk_net",
   "language": "python",
   "name": "asdk_net"
  },
  "language_info": {
   "codemirror_mode": {
    "name": "ipython",
    "version": 3
   },
   "file_extension": ".py",
   "mimetype": "text/x-python",
   "name": "python",
   "nbconvert_exporter": "python",
   "pygments_lexer": "ipython3",
   "version": "3.6.10"
  }
 },
 "nbformat": 4,
 "nbformat_minor": 4
}
